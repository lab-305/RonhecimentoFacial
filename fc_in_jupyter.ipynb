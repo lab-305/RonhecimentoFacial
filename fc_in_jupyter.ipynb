{
 "cells": [
  {
   "cell_type": "markdown",
   "id": "c00da28f",
   "metadata": {},
   "source": [
    "# 1.2 import dependencies"
   ]
  },
  {
   "cell_type": "code",
   "execution_count": 1,
   "id": "3ae821fe",
   "metadata": {},
   "outputs": [],
   "source": [
    "import cv2\n",
    "import os\n",
    "import random\n",
    "import numpy as np \n",
    "from matplotlib import  pyplot as plt"
   ]
  },
  {
   "cell_type": "markdown",
   "id": "d68c0bbb",
   "metadata": {},
   "source": [
    "### tensorflow imports"
   ]
  },
  {
   "cell_type": "code",
   "execution_count": 3,
   "id": "cb4d5d58",
   "metadata": {},
   "outputs": [],
   "source": [
    "import tensorflow as tf\n",
    "from tensorflow.keras.models import Model\n",
    "from tensorflow.keras.layers import Layer, Conv2D, Dense, MaxPooling2D, Input, Flatten"
   ]
  },
  {
   "cell_type": "code",
   "execution_count": 15,
   "id": "521c7ab9",
   "metadata": {},
   "outputs": [],
   "source": [
    "# limita uso de gpu\n",
    "# gpus = tf.config.experimental.list_physical_devices('GPU')\n",
    "# for gpu in gpus:\n",
    "    # tf.config.experimental.set_memory_growth(gpu, True)"
   ]
  },
  {
   "cell_type": "code",
   "execution_count": 4,
   "id": "f0a3b714",
   "metadata": {},
   "outputs": [],
   "source": [
    "# pastas\n",
    "POS_PATH = os.path.join('data', 'positive')\n",
    "NEG_PATH = os.path.join('data', 'negative')\n",
    "ANC_PATH = os.path.join('data', 'anchor')"
   ]
  },
  {
   "cell_type": "code",
   "execution_count": 23,
   "id": "35d42dbe",
   "metadata": {},
   "outputs": [],
   "source": [
    "# cria pastas\n",
    "os.makedirs(NEG_PATH)\n",
    "os.makedirs(ANC_PATH)"
   ]
  },
  {
   "cell_type": "markdown",
   "id": "c7442624",
   "metadata": {},
   "source": [
    "# 2.1 Collet Positives and Anchors"
   ]
  },
  {
   "cell_type": "markdown",
   "id": "7d28cf58",
   "metadata": {},
   "source": [
    "## 2.1 Untar Labelled daces"
   ]
  },
  {
   "cell_type": "code",
   "execution_count": 1,
   "id": "f43a5317",
   "metadata": {},
   "outputs": [],
   "source": [
    "# descomprime\n",
    "!tar -xf lfw.tgz "
   ]
  },
  {
   "cell_type": "code",
   "execution_count": 8,
   "id": "b0750089",
   "metadata": {},
   "outputs": [],
   "source": [
    "# mode imgs to the negative folder\n",
    "for directory in os.listdir('lfw'):\n",
    "    for file in os.listdir(os.path.join('lfw', directory)):\n",
    "        EX_PATH = os.path.join('lfw', directory, file)\n",
    "        NEW_PATH = os.path.join(NEG_PATH, file)\n",
    "        os.replace(EX_PATH, NEW_PATH)"
   ]
  },
  {
   "cell_type": "markdown",
   "id": "78399880",
   "metadata": {},
   "source": [
    "## 2.2 Colecting and saving images"
   ]
  },
  {
   "cell_type": "code",
   "execution_count": 5,
   "id": "fecbaeeb",
   "metadata": {},
   "outputs": [],
   "source": [
    "import uuid"
   ]
  },
  {
   "cell_type": "code",
   "execution_count": 18,
   "id": "eb64edd7",
   "metadata": {},
   "outputs": [],
   "source": [
    "cap = cv2.VideoCapture(0)\n",
    "while cap.isOpened():\n",
    "    ret, frame = cap.read()\n",
    "    \n",
    "    frame = frame[120:120+250, 200:200+250, :]\n",
    "    \n",
    "    if cv2.waitKey(1) & 0XFF == ord('a'):\n",
    "        imgname = os.path.join(ANC_PATH, '{}.jpg'.format(uuid.uuid1()))\n",
    "        cv2.imwrite(imgname, frame)\n",
    "        \n",
    "    if cv2.waitKey(1) & 0XFF == ord('p'):\n",
    "        imgname = os.path.join(POS_PATH, '{}.jpg'.format(uuid.uuid1()))\n",
    "        cv2.imwrite(imgname, frame)\n",
    "    \n",
    "    cv2.imshow('Image Collection', frame)\n",
    "    \n",
    "    if cv2.waitKey(1) & 0XFF == ord('q'):\n",
    "        break\n",
    "\n",
    "cap.release()\n",
    "cv2.destroyAllWindows()\n"
   ]
  },
  {
   "cell_type": "markdown",
   "id": "4670d237",
   "metadata": {},
   "source": [
    "# Load and Preprocess Images"
   ]
  },
  {
   "cell_type": "markdown",
   "id": "59fd03b5",
   "metadata": {},
   "source": [
    "## 3.1 get imgs directores"
   ]
  },
  {
   "cell_type": "code",
   "execution_count": 7,
   "id": "04e272ad",
   "metadata": {},
   "outputs": [],
   "source": [
    "anchor = tf.data.Dataset.list_files(ANC_PATH+'/*.jpg').take(300)\n",
    "positive = tf.data.Dataset.list_files(POS_PATH+'/*.jpg').take(300)\n",
    "negative = tf.data.Dataset.list_files(NEG_PATH+'/*.jpg').take(300)"
   ]
  },
  {
   "cell_type": "markdown",
   "id": "cf0b9eef",
   "metadata": {},
   "source": [
    "## 3.2 Preprocessing - Scale and Resize"
   ]
  },
  {
   "cell_type": "code",
   "execution_count": 8,
   "id": "55c19263",
   "metadata": {},
   "outputs": [],
   "source": [
    "def preprocess (file_path):\n",
    "    byte_img = tf.io.read_file(file_path)\n",
    "    img = tf.io.decode_jpeg(byte_img)\n",
    "    img = tf.image.resize(img, (100, 100))\n",
    "    img = img / 255.0\n",
    "    return img"
   ]
  },
  {
   "cell_type": "code",
   "execution_count": 10,
   "id": "f5955e3e",
   "metadata": {},
   "outputs": [],
   "source": [
    "img = preprocess('data/anchor/029ee87c-4931-11ec-9672-e09467e2e08c.jpg')"
   ]
  },
  {
   "cell_type": "code",
   "execution_count": 11,
   "id": "d30bdfcc",
   "metadata": {},
   "outputs": [
    {
     "data": {
      "text/plain": [
       "0.8384804"
      ]
     },
     "execution_count": 11,
     "metadata": {},
     "output_type": "execute_result"
    }
   ],
   "source": [
    "img.numpy().max()"
   ]
  },
  {
   "cell_type": "code",
   "execution_count": 12,
   "id": "28be2612",
   "metadata": {},
   "outputs": [
    {
     "data": {
      "text/plain": [
       "<matplotlib.image.AxesImage at 0x7f27b80411f0>"
      ]
     },
     "execution_count": 12,
     "metadata": {},
     "output_type": "execute_result"
    },
    {
     "data": {
      "image/png": "[encoded data removed]",
      "text/plain": [
       "<Figure size 432x288 with 1 Axes>"
      ]
     },
     "metadata": {
      "needs_background": "light"
     },
     "output_type": "display_data"
    }
   ],
   "source": [
    "plt.imshow(img)"
   ]
  },
  {
   "cell_type": "markdown",
   "id": "e07858a7",
   "metadata": {},
   "source": [
    "## 3.2 Create Labelled Datset"
   ]
  },
  {
   "cell_type": "code",
   "execution_count": 9,
   "id": "0f3e35d5",
   "metadata": {},
   "outputs": [],
   "source": [
    "positives = tf.data.Dataset.zip((anchor, positive, tf.data.Dataset.from_tensor_slices(tf.ones(len(anchor)))))\n",
    "negatives = tf.data.Dataset.zip((anchor, negative, tf.data.Dataset.from_tensor_slices(tf.zeros(len(anchor)))))\n",
    "data = positives.concatenate(negatives)"
   ]
  },
  {
   "cell_type": "code",
   "execution_count": 14,
   "id": "b86ce837",
   "metadata": {},
   "outputs": [],
   "source": [
    "samples = data.as_numpy_iterator()"
   ]
  },
  {
   "cell_type": "code",
   "execution_count": 15,
   "id": "2f73fe09",
   "metadata": {},
   "outputs": [],
   "source": [
    "example = samples.next()"
   ]
  },
  {
   "cell_type": "code",
   "execution_count": 16,
   "id": "99318867",
   "metadata": {
    "scrolled": true
   },
   "outputs": [
    {
     "data": {
      "text/plain": [
       "(b'data/anchor/feed75cc-4930-11ec-9672-e09467e2e08c.jpg',\n",
       " b'data/positive/a7aa42a4-4930-11ec-9672-e09467e2e08c.jpg',\n",
       " 1.0)"
      ]
     },
     "execution_count": 16,
     "metadata": {},
     "output_type": "execute_result"
    }
   ],
   "source": [
    "example"
   ]
  },
  {
   "cell_type": "markdown",
   "id": "09795de6",
   "metadata": {},
   "source": [
    "## 3.4 Build Train and Test Partition"
   ]
  },
  {
   "cell_type": "code",
   "execution_count": 10,
   "id": "6504351a",
   "metadata": {},
   "outputs": [],
   "source": [
    "def preprocess_twin(input_img, validation_img, label):\n",
    "    return (preprocess(input_img), preprocess(validation_img), label)"
   ]
  },
  {
   "cell_type": "code",
   "execution_count": 18,
   "id": "31d0f0ea",
   "metadata": {},
   "outputs": [],
   "source": [
    "res = preprocess_twin(*example)"
   ]
  },
  {
   "cell_type": "code",
   "execution_count": 19,
   "id": "fe72c95c",
   "metadata": {},
   "outputs": [
    {
     "data": {
      "text/plain": [
       "<matplotlib.image.AxesImage at 0x7f27bd7cb700>"
      ]
     },
     "execution_count": 19,
     "metadata": {},
     "output_type": "execute_result"
    },
    {
     "data": {
      "image/png": "[encoded data removed]",
      "text/plain": [
       "<Figure size 432x288 with 1 Axes>"
      ]
     },
     "metadata": {
      "needs_background": "light"
     },
     "output_type": "display_data"
    }
   ],
   "source": [
    "plt.imshow(res[0])"
   ]
  },
  {
   "cell_type": "code",
   "execution_count": 20,
   "id": "6318e10b",
   "metadata": {},
   "outputs": [
    {
     "data": {
      "text/plain": [
       "1.0"
      ]
     },
     "execution_count": 20,
     "metadata": {},
     "output_type": "execute_result"
    }
   ],
   "source": [
    "res[2]"
   ]
  },
  {
   "cell_type": "code",
   "execution_count": 11,
   "id": "36973ca1",
   "metadata": {
    "scrolled": false
   },
   "outputs": [],
   "source": [
    "#build dataLoader pipeline\n",
    "data = data.map(preprocess_twin)\n",
    "data = data.cache()\n",
    "data = data.shuffle(buffer_size=1024)"
   ]
  },
  {
   "cell_type": "code",
   "execution_count": 12,
   "id": "ba816974",
   "metadata": {},
   "outputs": [],
   "source": [
    "samples = data.as_numpy_iterator()"
   ]
  },
  {
   "cell_type": "code",
   "execution_count": 13,
   "id": "9f13b8f6",
   "metadata": {},
   "outputs": [
    {
     "name": "stderr",
     "output_type": "stream",
     "text": [
      "2021-11-20 08:47:15.766858: I tensorflow/compiler/mlir/mlir_graph_optimization_pass.cc:116] None of the MLIR optimization passes are enabled (registered 2)\n",
      "2021-11-20 08:47:15.808783: I tensorflow/core/platform/profile_utils/cpu_utils.cc:112] CPU Frequency: 2400000000 Hz\n"
     ]
    }
   ],
   "source": [
    "samp = samples.next()"
   ]
  },
  {
   "cell_type": "code",
   "execution_count": 107,
   "id": "efcc7e5e",
   "metadata": {},
   "outputs": [
    {
     "data": {
      "text/plain": [
       "<matplotlib.image.AxesImage at 0x7f2794ec9c10>"
      ]
     },
     "execution_count": 107,
     "metadata": {},
     "output_type": "execute_result"
    },
    {
     "data": {
      "image/png": "[encoded data removed]",
      "text/plain": [
       "<Figure size 432x288 with 1 Axes>"
      ]
     },
     "metadata": {
      "needs_background": "light"
     },
     "output_type": "display_data"
    }
   ],
   "source": [
    "plt.imshow(samp[0])"
   ]
  },
  {
   "cell_type": "code",
   "execution_count": 108,
   "id": "19d45d2d",
   "metadata": {},
   "outputs": [
    {
     "data": {
      "text/plain": [
       "<matplotlib.image.AxesImage at 0x7f2794ee54c0>"
      ]
     },
     "execution_count": 108,
     "metadata": {},
     "output_type": "execute_result"
    },
    {
     "data": {
      "image/png": "[encoded data removed]",
      "text/plain": [
       "<Figure size 432x288 with 1 Axes>"
      ]
     },
     "metadata": {
      "needs_background": "light"
     },
     "output_type": "display_data"
    }
   ],
   "source": [
    "plt.imshow(samp[1])"
   ]
  },
  {
   "cell_type": "code",
   "execution_count": 109,
   "id": "117113c7",
   "metadata": {},
   "outputs": [
    {
     "data": {
      "text/plain": [
       "1.0"
      ]
     },
     "execution_count": 109,
     "metadata": {},
     "output_type": "execute_result"
    }
   ],
   "source": [
    "samp[2]"
   ]
  },
  {
   "cell_type": "code",
   "execution_count": 50,
   "id": "34c8fee7",
   "metadata": {},
   "outputs": [
    {
     "data": {
      "text/plain": [
       "420"
      ]
     },
     "execution_count": 50,
     "metadata": {},
     "output_type": "execute_result"
    }
   ],
   "source": [
    "round(len(data)*.7)"
   ]
  },
  {
   "cell_type": "code",
   "execution_count": 14,
   "id": "37a5ed58",
   "metadata": {},
   "outputs": [],
   "source": [
    "# training partition\n",
    "train_data = data.take(round(len(data)*.7))\n",
    "train_data = train_data.batch(16)\n",
    "train_data = train_data.prefetch(8)"
   ]
  },
  {
   "cell_type": "code",
   "execution_count": 15,
   "id": "289ec882",
   "metadata": {},
   "outputs": [],
   "source": [
    "train_samples = train_data.as_numpy_iterator()"
   ]
  },
  {
   "cell_type": "code",
   "execution_count": 58,
   "id": "4e55b678",
   "metadata": {},
   "outputs": [],
   "source": [
    "train_sample = train_samples.next()"
   ]
  },
  {
   "cell_type": "code",
   "execution_count": 59,
   "id": "5af48e52",
   "metadata": {},
   "outputs": [
    {
     "data": {
      "text/plain": [
       "16"
      ]
     },
     "execution_count": 59,
     "metadata": {},
     "output_type": "execute_result"
    }
   ],
   "source": [
    "len(train_sample[0])"
   ]
  },
  {
   "cell_type": "code",
   "execution_count": 60,
   "id": "a383e6f5",
   "metadata": {},
   "outputs": [
    {
     "data": {
      "text/plain": [
       "180"
      ]
     },
     "execution_count": 60,
     "metadata": {},
     "output_type": "execute_result"
    }
   ],
   "source": [
    "round(len(data)*.3)"
   ]
  },
  {
   "cell_type": "code",
   "execution_count": 16,
   "id": "5b4936ff",
   "metadata": {},
   "outputs": [],
   "source": [
    "# Testing partition\n",
    "test_data = data.skip(round(len(data)*.7))\n",
    "test_data = test_data.take(round(len(data)*.3))\n",
    "test_data = test_data.batch(16)\n",
    "test_data = test_data.prefetch(8)"
   ]
  },
  {
   "cell_type": "markdown",
   "id": "4b01663b",
   "metadata": {},
   "source": [
    "# 4 Model Engineering"
   ]
  },
  {
   "cell_type": "markdown",
   "id": "6f56da43",
   "metadata": {},
   "source": [
    "4.1 Build Embedding layer"
   ]
  },
  {
   "cell_type": "code",
   "execution_count": 17,
   "id": "6dd41ba5",
   "metadata": {},
   "outputs": [],
   "source": [
    "inp = Input(shape=(100, 100, 3), name='input_image')"
   ]
  },
  {
   "cell_type": "code",
   "execution_count": 19,
   "id": "9a132cb2",
   "metadata": {},
   "outputs": [],
   "source": [
    "c1 = Conv2D(64, (10, 10), activation='relu')(inp)"
   ]
  },
  {
   "cell_type": "code",
   "execution_count": 20,
   "id": "1f596bdf",
   "metadata": {},
   "outputs": [],
   "source": [
    "m1 = MaxPooling2D(64, (2,2), padding='same')(c1)"
   ]
  },
  {
   "cell_type": "code",
   "execution_count": 21,
   "id": "bf8e5649",
   "metadata": {},
   "outputs": [],
   "source": [
    "c2 = Conv2D(128, (7,7), activation='relu')(m1)\n",
    "m2 = MaxPooling2D(64, (2,2), padding='same')(c2)"
   ]
  },
  {
   "cell_type": "code",
   "execution_count": 22,
   "id": "d25f019a",
   "metadata": {},
   "outputs": [],
   "source": [
    "c3 = Conv2D(128, (4,4), activation='relu')(m2)\n",
    "m3 = MaxPooling2D(64, (2,2), padding='same')(c3)"
   ]
  },
  {
   "cell_type": "code",
   "execution_count": 23,
   "id": "00200138",
   "metadata": {
    "scrolled": true
   },
   "outputs": [],
   "source": [
    "c4 = Conv2D(256, (4,4), activation = 'relu')(m3)\n",
    "f1= Flatten()(c4)\n",
    "d1 = Dense(4096, activation='sigmoid')(f1)"
   ]
  },
  {
   "cell_type": "code",
   "execution_count": 24,
   "id": "0a85a9f1",
   "metadata": {},
   "outputs": [],
   "source": [
    "mod = Model(inputs=[inp], outputs=[d1], name='embedding')"
   ]
  },
  {
   "cell_type": "code",
   "execution_count": 25,
   "id": "afd8f7d2",
   "metadata": {},
   "outputs": [
    {
     "name": "stdout",
     "output_type": "stream",
     "text": [
      "Model: \"embedding\"\n",
      "_________________________________________________________________\n",
      "Layer (type)                 Output Shape              Param #   \n",
      "=================================================================\n",
      "input_image (InputLayer)     [(None, 100, 100, 3)]     0         \n",
      "_________________________________________________________________\n",
      "conv2d (Conv2D)              (None, 91, 91, 64)        19264     \n",
      "_________________________________________________________________\n",
      "max_pooling2d_1 (MaxPooling2 (None, 46, 46, 64)        0         \n",
      "_________________________________________________________________\n",
      "conv2d_1 (Conv2D)            (None, 40, 40, 128)       401536    \n",
      "_________________________________________________________________\n",
      "max_pooling2d_2 (MaxPooling2 (None, 20, 20, 128)       0         \n",
      "_________________________________________________________________\n",
      "conv2d_2 (Conv2D)            (None, 17, 17, 128)       262272    \n",
      "_________________________________________________________________\n",
      "max_pooling2d_3 (MaxPooling2 (None, 9, 9, 128)         0         \n",
      "_________________________________________________________________\n",
      "conv2d_3 (Conv2D)            (None, 6, 6, 256)         524544    \n",
      "_________________________________________________________________\n",
      "flatten (Flatten)            (None, 9216)              0         \n",
      "_________________________________________________________________\n",
      "dense (Dense)                (None, 4096)              37752832  \n",
      "=================================================================\n",
      "Total params: 38,960,448\n",
      "Trainable params: 38,960,448\n",
      "Non-trainable params: 0\n",
      "_________________________________________________________________\n"
     ]
    }
   ],
   "source": [
    "mod.summary()"
   ]
  },
  {
   "cell_type": "code",
   "execution_count": 26,
   "id": "5a5a03c3",
   "metadata": {},
   "outputs": [],
   "source": [
    "def make_embedding():\n",
    "    inp = Input(shape=(100, 100, 3), name='input_image')\n",
    "    \n",
    "    # 1º bloko\n",
    "    c1 = Conv2D(64, (10, 10), activation='relu')(inp)\n",
    "    m1 = MaxPooling2D(64, (2,2), padding='same')(c1)\n",
    "    \n",
    "    # 2º bloko\n",
    "    c2 = Conv2D(128, (7,7), activation='relu')(m1)\n",
    "    m2 = MaxPooling2D(64, (2,2), padding='same')(c2)\n",
    "    \n",
    "    # 3º bloko\n",
    "    c3 = Conv2D(128, (4,4), activation='relu')(m2)\n",
    "    m3 = MaxPooling2D(64, (2,2), padding='same')(c3)\n",
    "    \n",
    "    # 4º bloko final embedding \n",
    "    c4 = Conv2D(256, (4,4), activation = 'relu')(m3)\n",
    "    f1= Flatten()(c4) \n",
    "    d1 = Dense(4096, activation='sigmoid')(f1)\n",
    "    \n",
    "    return Model(inputs=[inp], outputs=[d1], name='embedding')"
   ]
  },
  {
   "cell_type": "code",
   "execution_count": 27,
   "id": "171bf4a8",
   "metadata": {
    "scrolled": true
   },
   "outputs": [],
   "source": [
    "embedding = make_embedding()"
   ]
  },
  {
   "cell_type": "code",
   "execution_count": 28,
   "id": "0fb2fd1a",
   "metadata": {},
   "outputs": [
    {
     "name": "stdout",
     "output_type": "stream",
     "text": [
      "Model: \"embedding\"\n",
      "_________________________________________________________________\n",
      "Layer (type)                 Output Shape              Param #   \n",
      "=================================================================\n",
      "input_image (InputLayer)     [(None, 100, 100, 3)]     0         \n",
      "_________________________________________________________________\n",
      "conv2d_4 (Conv2D)            (None, 91, 91, 64)        19264     \n",
      "_________________________________________________________________\n",
      "max_pooling2d_4 (MaxPooling2 (None, 46, 46, 64)        0         \n",
      "_________________________________________________________________\n",
      "conv2d_5 (Conv2D)            (None, 40, 40, 128)       401536    \n",
      "_________________________________________________________________\n",
      "max_pooling2d_5 (MaxPooling2 (None, 20, 20, 128)       0         \n",
      "_________________________________________________________________\n",
      "conv2d_6 (Conv2D)            (None, 17, 17, 128)       262272    \n",
      "_________________________________________________________________\n",
      "max_pooling2d_6 (MaxPooling2 (None, 9, 9, 128)         0         \n",
      "_________________________________________________________________\n",
      "conv2d_7 (Conv2D)            (None, 6, 6, 256)         524544    \n",
      "_________________________________________________________________\n",
      "flatten_1 (Flatten)          (None, 9216)              0         \n",
      "_________________________________________________________________\n",
      "dense_1 (Dense)              (None, 4096)              37752832  \n",
      "=================================================================\n",
      "Total params: 38,960,448\n",
      "Trainable params: 38,960,448\n",
      "Non-trainable params: 0\n",
      "_________________________________________________________________\n"
     ]
    }
   ],
   "source": [
    "embedding.summary()"
   ]
  },
  {
   "cell_type": "markdown",
   "id": "ad080160",
   "metadata": {},
   "source": [
    "## 4.2 Build distance layer"
   ]
  },
  {
   "cell_type": "code",
   "execution_count": 29,
   "id": "245f53e4",
   "metadata": {},
   "outputs": [],
   "source": [
    "# Siamese L1 Distance class\n",
    "class L1Dist(Layer):\n",
    "    \n",
    "    # Init method\n",
    "    def __init__(self, **kwargs):\n",
    "        super().__init__()\n",
    "        \n",
    "    # Magic  happens here \n",
    "    def call(self, input_embedding, validation_embedding):\n",
    "        return tf.math.abs(input_embedding - validation_embedding)"
   ]
  },
  {
   "cell_type": "code",
   "execution_count": 30,
   "id": "908af04d",
   "metadata": {},
   "outputs": [],
   "source": [
    "l1 = L1Dist()"
   ]
  },
  {
   "cell_type": "markdown",
   "id": "fda12b06",
   "metadata": {},
   "source": [
    "## 4.3 Make Siamese Model"
   ]
  },
  {
   "cell_type": "code",
   "execution_count": 31,
   "id": "ea77bee7",
   "metadata": {},
   "outputs": [],
   "source": [
    "input_image = Input(name='input_img', shape=(100, 100, 3))\n",
    "validation_image = Input(name='validation_img', shape=(100, 100, 3))"
   ]
  },
  {
   "cell_type": "code",
   "execution_count": 32,
   "id": "0e52f6fd",
   "metadata": {},
   "outputs": [],
   "source": [
    "inp_embedding = embedding(input_image)\n",
    "val_embedding = embedding(validation_image)"
   ]
  },
  {
   "cell_type": "code",
   "execution_count": 34,
   "id": "fb597ba2",
   "metadata": {},
   "outputs": [],
   "source": [
    "siamese_layer = L1Dist()"
   ]
  },
  {
   "cell_type": "code",
   "execution_count": 35,
   "id": "30d4d68f",
   "metadata": {},
   "outputs": [],
   "source": [
    "distances = siamese_layer(inp_embedding, val_embedding)"
   ]
  },
  {
   "cell_type": "code",
   "execution_count": 36,
   "id": "d1e2296f",
   "metadata": {},
   "outputs": [],
   "source": [
    "classifier = Dense(1, activation='sigmoid')(distances)"
   ]
  },
  {
   "cell_type": "code",
   "execution_count": 37,
   "id": "2acbd51f",
   "metadata": {},
   "outputs": [
    {
     "data": {
      "text/plain": [
       "<KerasTensor: shape=(None, 1) dtype=float32 (created by layer 'dense_2')>"
      ]
     },
     "execution_count": 37,
     "metadata": {},
     "output_type": "execute_result"
    }
   ],
   "source": [
    "classifier"
   ]
  },
  {
   "cell_type": "code",
   "execution_count": 38,
   "id": "5ea284a1",
   "metadata": {},
   "outputs": [],
   "source": [
    "siamese_network = Model(inputs=[input_image, validation_image], outputs=classifier, name='SiameseNetwork')"
   ]
  },
  {
   "cell_type": "code",
   "execution_count": 39,
   "id": "c8f2bde5",
   "metadata": {},
   "outputs": [
    {
     "name": "stdout",
     "output_type": "stream",
     "text": [
      "Model: \"SiameseNetwork\"\n",
      "__________________________________________________________________________________________________\n",
      "Layer (type)                    Output Shape         Param #     Connected to                     \n",
      "==================================================================================================\n",
      "input_img (InputLayer)          [(None, 100, 100, 3) 0                                            \n",
      "__________________________________________________________________________________________________\n",
      "validation_img (InputLayer)     [(None, 100, 100, 3) 0                                            \n",
      "__________________________________________________________________________________________________\n",
      "embedding (Functional)          (None, 4096)         38960448    input_img[0][0]                  \n",
      "                                                                 validation_img[0][0]             \n",
      "__________________________________________________________________________________________________\n",
      "l1_dist_2 (L1Dist)              (None, 4096)         0           embedding[0][0]                  \n",
      "                                                                 embedding[1][0]                  \n",
      "__________________________________________________________________________________________________\n",
      "dense_2 (Dense)                 (None, 1)            4097        l1_dist_2[0][0]                  \n",
      "==================================================================================================\n",
      "Total params: 38,964,545\n",
      "Trainable params: 38,964,545\n",
      "Non-trainable params: 0\n",
      "__________________________________________________________________________________________________\n"
     ]
    }
   ],
   "source": [
    "siamese_network.summary()"
   ]
  },
  {
   "cell_type": "code",
   "execution_count": 40,
   "id": "e6a4c333",
   "metadata": {},
   "outputs": [],
   "source": [
    "def make_siamese_model():\n",
    "    \n",
    "    # Anchor image input in the network\n",
    "    input_image = Input(name='input_img', shape=(100, 100, 3))\n",
    "    \n",
    "    # Validation image in the network\n",
    "    validation_image = Input(name='validation_img', shape=(100, 100, 3))\n",
    "    \n",
    "    # Cmobine siamese distance componentes\n",
    "    siamese_layer = L1Dist()\n",
    "    siamese_layer._name = 'distance'\n",
    "    distances = siamese_layer(embedding(input_image), embedding(validation_image))\n",
    "    \n",
    "    # classification Layer\n",
    "    classifier = Dense(1, activation='sigmoid')(distances)\n",
    "    \n",
    "    return Model(inputs=[input_image, validation_image], outputs=classifier, name='SiameseNetwork')"
   ]
  },
  {
   "cell_type": "code",
   "execution_count": 41,
   "id": "821fb641",
   "metadata": {},
   "outputs": [],
   "source": [
    "siamese_model = make_siamese_model()"
   ]
  },
  {
   "cell_type": "code",
   "execution_count": 42,
   "id": "a69ff166",
   "metadata": {},
   "outputs": [
    {
     "name": "stdout",
     "output_type": "stream",
     "text": [
      "Model: \"SiameseNetwork\"\n",
      "__________________________________________________________________________________________________\n",
      "Layer (type)                    Output Shape         Param #     Connected to                     \n",
      "==================================================================================================\n",
      "input_img (InputLayer)          [(None, 100, 100, 3) 0                                            \n",
      "__________________________________________________________________________________________________\n",
      "validation_img (InputLayer)     [(None, 100, 100, 3) 0                                            \n",
      "__________________________________________________________________________________________________\n",
      "embedding (Functional)          (None, 4096)         38960448    input_img[0][0]                  \n",
      "                                                                 validation_img[0][0]             \n",
      "__________________________________________________________________________________________________\n",
      "distance (L1Dist)               (None, 4096)         0           embedding[2][0]                  \n",
      "                                                                 embedding[3][0]                  \n",
      "__________________________________________________________________________________________________\n",
      "dense_3 (Dense)                 (None, 1)            4097        distance[0][0]                   \n",
      "==================================================================================================\n",
      "Total params: 38,964,545\n",
      "Trainable params: 38,964,545\n",
      "Non-trainable params: 0\n",
      "__________________________________________________________________________________________________\n"
     ]
    }
   ],
   "source": [
    "siamese_model.summary()"
   ]
  },
  {
   "cell_type": "markdown",
   "id": "f00b375a",
   "metadata": {},
   "source": [
    "# Training"
   ]
  },
  {
   "cell_type": "markdown",
   "id": "567e88b3",
   "metadata": {},
   "source": [
    "## 5.1 Loss and Optimizer"
   ]
  },
  {
   "cell_type": "code",
   "execution_count": 43,
   "id": "3a4962ec",
   "metadata": {},
   "outputs": [],
   "source": [
    "binary_cross_loss = tf.losses.BinaryCrossentropy()"
   ]
  },
  {
   "cell_type": "code",
   "execution_count": 44,
   "id": "2c26e661",
   "metadata": {},
   "outputs": [],
   "source": [
    "opt = tf.keras.optimizers.Adam(1e-4)"
   ]
  },
  {
   "cell_type": "markdown",
   "id": "a97969da",
   "metadata": {},
   "source": [
    "## 5.2 Estabilish Checkpoint"
   ]
  },
  {
   "cell_type": "code",
   "execution_count": 45,
   "id": "4222b1a3",
   "metadata": {},
   "outputs": [],
   "source": [
    "checkpoint_dir = './training_checkpoints'\n",
    "checkpoint_prefix = os.path.join(checkpoint_dir, 'ckpt')\n",
    "checkpoint = tf.train.Checkpoint(opt=opt, siamese_model=siamese_model)"
   ]
  },
  {
   "cell_type": "markdown",
   "id": "1c0c5cca",
   "metadata": {},
   "source": [
    "## 5.3 Build Train Step Function"
   ]
  },
  {
   "cell_type": "code",
   "execution_count": 46,
   "id": "98acbb41",
   "metadata": {},
   "outputs": [],
   "source": [
    "test_batch = train_data.as_numpy_iterator() "
   ]
  },
  {
   "cell_type": "code",
   "execution_count": 47,
   "id": "2f895d92",
   "metadata": {},
   "outputs": [],
   "source": [
    "batch_1 = test_batch.next()"
   ]
  },
  {
   "cell_type": "code",
   "execution_count": 48,
   "id": "b95e263f",
   "metadata": {},
   "outputs": [],
   "source": [
    "X = batch_1[:2]"
   ]
  },
  {
   "cell_type": "code",
   "execution_count": 49,
   "id": "b7dfe793",
   "metadata": {},
   "outputs": [],
   "source": [
    "y = batch_1[2]"
   ]
  },
  {
   "cell_type": "code",
   "execution_count": 50,
   "id": "c852a6c9",
   "metadata": {},
   "outputs": [
    {
     "data": {
      "text/plain": [
       "array([0., 1., 1., 1., 1., 0., 0., 0., 0., 1., 1., 0., 1., 0., 1., 0.],\n",
       "      dtype=float32)"
      ]
     },
     "execution_count": 50,
     "metadata": {},
     "output_type": "execute_result"
    }
   ],
   "source": [
    "y"
   ]
  },
  {
   "cell_type": "code",
   "execution_count": 120,
   "id": "e9935ab6",
   "metadata": {},
   "outputs": [],
   "source": [
    "tf.losses.BinaryCrossentropy??"
   ]
  },
  {
   "cell_type": "code",
   "execution_count": 51,
   "id": "2e094af0",
   "metadata": {},
   "outputs": [],
   "source": [
    "@tf.function\n",
    "def train_step(batch):\n",
    "    \n",
    "    #Record all of our operations\n",
    "    with tf.GradientTape() as tape:\n",
    "        # Get anchor and positive/negative image\n",
    "        X = batch[:2]\n",
    "        \n",
    "        # Get  label\n",
    "        y = batch[2]\n",
    "        \n",
    "        # Forward pass\n",
    "        yhat = siamese_model(X, training=True)\n",
    "        \n",
    "        # Calculate loss\n",
    "        loss = binary_cross_loss(y, yhat)\n",
    "    print(loss)\n",
    "    \n",
    "    # Calculate gradientes\n",
    "    grad = tape.gradient(loss, siamese_model.trainable_variables)\n",
    "    \n",
    "    # Calculate updated weights and apply to siamese model\n",
    "    opt.apply_gradients(zip(grad, siamese_model.trainable_variables))\n",
    "    \n",
    "    # return loss\n",
    "    return loss"
   ]
  },
  {
   "cell_type": "markdown",
   "id": "bc91a6d5",
   "metadata": {},
   "source": [
    "## 5.4 Training Loop"
   ]
  },
  {
   "cell_type": "code",
   "execution_count": 52,
   "id": "3003df19",
   "metadata": {},
   "outputs": [],
   "source": [
    "def train(data, EPOCHS):\n",
    "    \n",
    "    # Loop through epochs\n",
    "    for epoch in range(1, EPOCHS+1):\n",
    "        print('\\n EPOCH {}/{}'.format(epoch, EPOCHS))\n",
    "        progbar = tf.keras.utils.Progbar(len(data))\n",
    "        \n",
    "        # Loop through eaach batch\n",
    "        for idx, batch in enumerate(data):\n",
    "            # Run train step here\n",
    "            train_step(batch)\n",
    "            progbar.update(idx+1)\n",
    "            \n",
    "        #save checkpoints\n",
    "        if epoch % 10 == 0:\n",
    "            checkpoint.save(file_prefix=checkpoint_prefix)"
   ]
  },
  {
   "cell_type": "markdown",
   "id": "8935cfbe",
   "metadata": {},
   "source": [
    "## 5.5 Train d model"
   ]
  },
  {
   "cell_type": "code",
   "execution_count": 54,
   "id": "fc6b2c5d",
   "metadata": {},
   "outputs": [],
   "source": [
    "EPOCHS = 50"
   ]
  },
  {
   "cell_type": "code",
   "execution_count": 55,
   "id": "c6e07310",
   "metadata": {
    "scrolled": true
   },
   "outputs": [
    {
     "name": "stdout",
     "output_type": "stream",
     "text": [
      "\n",
      " EPOCH 1/50\n",
      "Tensor(\"binary_crossentropy/weighted_loss/value:0\", shape=(), dtype=float32)\n",
      "Tensor(\"binary_crossentropy/weighted_loss/value:0\", shape=(), dtype=float32)\n",
      "26/27 [===========================>..] - ETA: 10sTensor(\"binary_crossentropy/weighted_loss/value:0\", shape=(), dtype=float32)\n",
      "27/27 [==============================] - 290s 11s/step\n",
      "\n",
      " EPOCH 2/50\n",
      "27/27 [==============================] - 273s 10s/step\n",
      "\n",
      " EPOCH 3/50\n",
      "27/27 [==============================] - 272s 10s/step\n",
      "\n",
      " EPOCH 4/50\n",
      "27/27 [==============================] - 298s 11s/step\n",
      "\n",
      " EPOCH 5/50\n",
      "27/27 [==============================] - 273s 10s/step\n",
      "\n",
      " EPOCH 6/50\n",
      "27/27 [==============================] - 311s 12s/step\n",
      "\n",
      " EPOCH 7/50\n",
      "27/27 [==============================] - 339s 13s/step\n",
      "\n",
      " EPOCH 8/50\n",
      "27/27 [==============================] - 411s 15s/step\n",
      "\n",
      " EPOCH 9/50\n",
      "27/27 [==============================] - 375s 14s/step\n",
      "\n",
      " EPOCH 10/50\n",
      "27/27 [==============================] - 269s 10s/step\n",
      "\n",
      " EPOCH 11/50\n",
      "27/27 [==============================] - 270s 10s/step\n",
      "\n",
      " EPOCH 12/50\n",
      "27/27 [==============================] - 286s 11s/step\n",
      "\n",
      " EPOCH 13/50\n",
      "27/27 [==============================] - 278s 10s/step\n",
      "\n",
      " EPOCH 14/50\n",
      "27/27 [==============================] - 278s 10s/step\n",
      "\n",
      " EPOCH 15/50\n",
      "27/27 [==============================] - 281s 10s/step\n",
      "\n",
      " EPOCH 16/50\n",
      "27/27 [==============================] - 277s 10s/step\n",
      "\n",
      " EPOCH 17/50\n",
      "27/27 [==============================] - 277s 10s/step\n",
      "\n",
      " EPOCH 18/50\n",
      "27/27 [==============================] - 278s 10s/step\n",
      "\n",
      " EPOCH 19/50\n",
      "27/27 [==============================] - 287s 11s/step\n",
      "\n",
      " EPOCH 20/50\n",
      "27/27 [==============================] - 288s 11s/step\n",
      "\n",
      " EPOCH 21/50\n",
      "27/27 [==============================] - 286s 11s/step\n",
      "\n",
      " EPOCH 22/50\n",
      "27/27 [==============================] - 287s 11s/step\n",
      "\n",
      " EPOCH 23/50\n",
      "27/27 [==============================] - 286s 11s/step\n",
      "\n",
      " EPOCH 24/50\n",
      "27/27 [==============================] - 285s 11s/step\n",
      "\n",
      " EPOCH 25/50\n",
      "27/27 [==============================] - 278s 10s/step\n",
      "\n",
      " EPOCH 26/50\n",
      "27/27 [==============================] - 278s 10s/step\n",
      "\n",
      " EPOCH 27/50\n",
      "27/27 [==============================] - 276s 10s/step\n",
      "\n",
      " EPOCH 28/50\n",
      "27/27 [==============================] - 278s 10s/step\n",
      "\n",
      " EPOCH 29/50\n",
      "27/27 [==============================] - 281s 10s/step\n",
      "\n",
      " EPOCH 30/50\n",
      "27/27 [==============================] - 277s 10s/step\n",
      "\n",
      " EPOCH 31/50\n",
      "27/27 [==============================] - 296s 11s/step\n",
      "\n",
      " EPOCH 32/50\n",
      "27/27 [==============================] - 319s 12s/step\n",
      "\n",
      " EPOCH 33/50\n",
      "27/27 [==============================] - 279s 10s/step\n",
      "\n",
      " EPOCH 34/50\n",
      "27/27 [==============================] - 305s 11s/step\n",
      "\n",
      " EPOCH 35/50\n",
      "27/27 [==============================] - 364s 13s/step\n",
      "\n",
      " EPOCH 36/50\n",
      "27/27 [==============================] - 402s 15s/step\n",
      "\n",
      " EPOCH 37/50\n",
      "27/27 [==============================] - 304s 11s/step\n",
      "\n",
      " EPOCH 38/50\n",
      "27/27 [==============================] - 275s 10s/step\n",
      "\n",
      " EPOCH 39/50\n",
      "27/27 [==============================] - 277s 10s/step\n",
      "\n",
      " EPOCH 40/50\n",
      "27/27 [==============================] - 273s 10s/step\n",
      "\n",
      " EPOCH 41/50\n",
      "27/27 [==============================] - 274s 10s/step\n",
      "\n",
      " EPOCH 42/50\n",
      "27/27 [==============================] - 297s 11s/step\n",
      "\n",
      " EPOCH 43/50\n",
      "27/27 [==============================] - 319s 12s/step\n",
      "\n",
      " EPOCH 44/50\n",
      "27/27 [==============================] - 344s 13s/step\n",
      "\n",
      " EPOCH 45/50\n",
      "27/27 [==============================] - 278s 10s/step\n",
      "\n",
      " EPOCH 46/50\n",
      "27/27 [==============================] - 272s 10s/step\n",
      "\n",
      " EPOCH 47/50\n",
      "27/27 [==============================] - 275s 10s/step\n",
      "\n",
      " EPOCH 48/50\n",
      "27/27 [==============================] - 309s 11s/step\n",
      "\n",
      " EPOCH 49/50\n",
      "27/27 [==============================] - 365s 14s/step\n",
      "\n",
      " EPOCH 50/50\n",
      "27/27 [==============================] - 325s 12s/step\n"
     ]
    }
   ],
   "source": [
    "train(train_data, EPOCHS)"
   ]
  },
  {
   "cell_type": "markdown",
   "id": "db881356",
   "metadata": {},
   "source": [
    "# 6 Evaluate Model"
   ]
  },
  {
   "cell_type": "code",
   "execution_count": 61,
   "id": "46ab6988",
   "metadata": {},
   "outputs": [],
   "source": [
    "# import metric calculations\n",
    "from tensorflow.keras.metrics import Precision, Recall"
   ]
  },
  {
   "cell_type": "markdown",
   "id": "98e3c271",
   "metadata": {},
   "source": [
    "## 6.2 Make predictions"
   ]
  },
  {
   "cell_type": "code",
   "execution_count": 56,
   "id": "f1e6eef8",
   "metadata": {},
   "outputs": [],
   "source": [
    "# Get a batch of test data\n",
    "test_input, test_val, y_true = test_data.as_numpy_iterator().next()"
   ]
  },
  {
   "cell_type": "markdown",
   "id": "b694dfdc",
   "metadata": {},
   "source": [
    "# dps pa conpila apartir de li"
   ]
  },
  {
   "cell_type": "code",
   "execution_count": 57,
   "id": "6b702f6f",
   "metadata": {},
   "outputs": [
    {
     "data": {
      "text/plain": [
       "array([[9.9998057e-01],\n",
       "       [1.0000000e+00],\n",
       "       [9.9999690e-01],\n",
       "       [5.2854652e-08],\n",
       "       [1.1052010e-11],\n",
       "       [2.0661368e-09],\n",
       "       [9.9999982e-01],\n",
       "       [1.0000000e+00],\n",
       "       [9.9949372e-01],\n",
       "       [1.0000000e+00],\n",
       "       [9.9993408e-01],\n",
       "       [7.0414646e-12],\n",
       "       [9.9976140e-01],\n",
       "       [1.0640277e-11],\n",
       "       [1.9547558e-11],\n",
       "       [2.5576600e-11]], dtype=float32)"
      ]
     },
     "execution_count": 57,
     "metadata": {},
     "output_type": "execute_result"
    }
   ],
   "source": [
    "# Make predictions\n",
    "y_hat = siamese_model.predict([test_input, test_val])\n",
    "y_hat"
   ]
  },
  {
   "cell_type": "code",
   "execution_count": 58,
   "id": "0444a48a",
   "metadata": {},
   "outputs": [
    {
     "data": {
      "text/plain": [
       "[1, 1, 1, 0, 0, 0, 1, 1, 1, 1, 1, 0, 1, 0, 0, 0]"
      ]
     },
     "execution_count": 58,
     "metadata": {},
     "output_type": "execute_result"
    }
   ],
   "source": [
    "# Post processing the results\n",
    "[1 if prediction > 0.5 else 0 for prediction in y_hat]"
   ]
  },
  {
   "cell_type": "code",
   "execution_count": 59,
   "id": "fdc49db7",
   "metadata": {},
   "outputs": [
    {
     "data": {
      "text/plain": [
       "array([1., 1., 1., 0., 0., 0., 1., 1., 1., 1., 1., 0., 1., 0., 0., 0.],\n",
       "      dtype=float32)"
      ]
     },
     "execution_count": 59,
     "metadata": {},
     "output_type": "execute_result"
    }
   ],
   "source": [
    "y_true"
   ]
  },
  {
   "cell_type": "markdown",
   "id": "a12b7000",
   "metadata": {},
   "source": [
    "##  6.3 Calculate Metrics"
   ]
  },
  {
   "cell_type": "code",
   "execution_count": 62,
   "id": "ac021e00",
   "metadata": {},
   "outputs": [
    {
     "data": {
      "text/plain": [
       "1.0"
      ]
     },
     "execution_count": 62,
     "metadata": {},
     "output_type": "execute_result"
    }
   ],
   "source": [
    "# Creating a metric object\n",
    "m = Recall()\n",
    "\n",
    "# Calculating the recall value\n",
    "m.update_state(y_true, y_hat)\n",
    "\n",
    "# Retur Recall Result\n",
    "m.result().numpy()"
   ]
  },
  {
   "cell_type": "code",
   "execution_count": 63,
   "id": "44880b4a",
   "metadata": {},
   "outputs": [
    {
     "data": {
      "text/plain": [
       "1.0"
      ]
     },
     "execution_count": 63,
     "metadata": {},
     "output_type": "execute_result"
    }
   ],
   "source": [
    "# Creating a metric object\n",
    "m = Precision()\n",
    "\n",
    "# Calculating the recall value\n",
    "m.update_state(y_true, y_hat)\n",
    "\n",
    "# Return Recall Result\n",
    "m.result().numpy()"
   ]
  },
  {
   "cell_type": "markdown",
   "id": "bafea159",
   "metadata": {},
   "source": [
    "## 6.4 Viz Results"
   ]
  },
  {
   "cell_type": "code",
   "execution_count": 64,
   "id": "2968a4ff",
   "metadata": {},
   "outputs": [
    {
     "data": {
      "image/png": "[encoded data removed]",
      "text/plain": [
       "<Figure size 720x576 with 2 Axes>"
      ]
     },
     "metadata": {
      "needs_background": "light"
     },
     "output_type": "display_data"
    }
   ],
   "source": [
    "# set plot size\n",
    "plt.figure(figsize=(10,8))\n",
    "\n",
    "# Set first subplot\n",
    "plt.subplot(1, 2 ,1)\n",
    "plt.imshow(test_input[0])\n",
    "\n",
    "# Set second subplot\n",
    "plt.subplot(1, 2, 2)\n",
    "plt.imshow(test_val[0])\n",
    "\n",
    "# Renders cleanly\n",
    "plt.show()"
   ]
  },
  {
   "cell_type": "markdown",
   "id": "05ac2b03",
   "metadata": {},
   "source": [
    "# 7 Save Model"
   ]
  },
  {
   "cell_type": "code",
   "execution_count": 65,
   "id": "9a3c5e48",
   "metadata": {},
   "outputs": [],
   "source": [
    "# Save weights\n",
    "siamese_model.save('siamesemodel.h5')"
   ]
  },
  {
   "cell_type": "code",
   "execution_count": 66,
   "id": "d149a09b",
   "metadata": {},
   "outputs": [
    {
     "data": {
      "text/plain": [
       "__main__.L1Dist"
      ]
     },
     "execution_count": 66,
     "metadata": {},
     "output_type": "execute_result"
    }
   ],
   "source": [
    "L1Dist"
   ]
  },
  {
   "cell_type": "code",
   "execution_count": 67,
   "id": "8e0252a9",
   "metadata": {},
   "outputs": [
    {
     "name": "stdout",
     "output_type": "stream",
     "text": [
      "WARNING:tensorflow:No training configuration found in the save file, so the model was *not* compiled. Compile it manually.\n"
     ]
    }
   ],
   "source": [
    "# Reload model\n",
    "model = tf.keras.models.load_model('siamesemodel.h5', \n",
    "                                  custom_objects={'L1Dist':L1Dist, 'BinaryCrossentropy': tf.losses.BinaryCrossentropy})"
   ]
  },
  {
   "cell_type": "code",
   "execution_count": 68,
   "id": "69b5de09",
   "metadata": {},
   "outputs": [
    {
     "data": {
      "text/plain": [
       "array([[9.9998057e-01],\n",
       "       [1.0000000e+00],\n",
       "       [9.9999690e-01],\n",
       "       [5.2854652e-08],\n",
       "       [1.1052010e-11],\n",
       "       [2.0661368e-09],\n",
       "       [9.9999982e-01],\n",
       "       [1.0000000e+00],\n",
       "       [9.9949372e-01],\n",
       "       [1.0000000e+00],\n",
       "       [9.9993408e-01],\n",
       "       [7.0414646e-12],\n",
       "       [9.9976140e-01],\n",
       "       [1.0640277e-11],\n",
       "       [1.9547558e-11],\n",
       "       [2.5576600e-11]], dtype=float32)"
      ]
     },
     "execution_count": 68,
     "metadata": {},
     "output_type": "execute_result"
    }
   ],
   "source": [
    "# Make predictions with reloaded model\n",
    "model.predict([test_input, test_val])"
   ]
  },
  {
   "cell_type": "code",
   "execution_count": 69,
   "id": "6cbe2005",
   "metadata": {},
   "outputs": [
    {
     "name": "stdout",
     "output_type": "stream",
     "text": [
      "Model: \"SiameseNetwork\"\n",
      "__________________________________________________________________________________________________\n",
      "Layer (type)                    Output Shape         Param #     Connected to                     \n",
      "==================================================================================================\n",
      "input_img (InputLayer)          [(None, 100, 100, 3) 0                                            \n",
      "__________________________________________________________________________________________________\n",
      "validation_img (InputLayer)     [(None, 100, 100, 3) 0                                            \n",
      "__________________________________________________________________________________________________\n",
      "embedding (Functional)          (None, 4096)         38960448    input_img[0][0]                  \n",
      "                                                                 validation_img[0][0]             \n",
      "__________________________________________________________________________________________________\n",
      "l1_dist_4 (L1Dist)              (None, 4096)         0           embedding[0][0]                  \n",
      "                                                                 embedding[1][0]                  \n",
      "__________________________________________________________________________________________________\n",
      "dense_3 (Dense)                 (None, 1)            4097        l1_dist_4[0][0]                  \n",
      "==================================================================================================\n",
      "Total params: 38,964,545\n",
      "Trainable params: 38,964,545\n",
      "Non-trainable params: 0\n",
      "__________________________________________________________________________________________________\n"
     ]
    }
   ],
   "source": [
    "# View model summary\n",
    "model.summary()"
   ]
  },
  {
   "cell_type": "markdown",
   "id": "6bbc0202",
   "metadata": {},
   "source": [
    "# 8 Real time test"
   ]
  },
  {
   "cell_type": "markdown",
   "id": "202e278b",
   "metadata": {},
   "source": [
    "## 8.1 Verification Function"
   ]
  },
  {
   "cell_type": "code",
   "execution_count": 70,
   "id": "b879be64",
   "metadata": {},
   "outputs": [
    {
     "ename": "SyntaxError",
     "evalue": "unexpected character after line continuation character (2818603333.py, line 1)",
     "output_type": "error",
     "traceback": [
      "\u001b[0;36m  File \u001b[0;32m\"/tmp/ipykernel_2034/2818603333.py\"\u001b[0;36m, line \u001b[0;32m1\u001b[0m\n\u001b[0;31m    application_data\\verification_images\u001b[0m\n\u001b[0m                                        ^\u001b[0m\n\u001b[0;31mSyntaxError\u001b[0m\u001b[0;31m:\u001b[0m unexpected character after line continuation character\n"
     ]
    }
   ],
   "source": [
    "application_data\\verification_images"
   ]
  },
  {
   "cell_type": "code",
   "execution_count": 71,
   "id": "33da512c",
   "metadata": {},
   "outputs": [
    {
     "data": {
      "text/plain": [
       "['0a2f9082-4931-11ec-9672-e09467e2e08c.jpg',\n",
       " '0ad6d0ea-4931-11ec-9672-e09467e2e08c.jpg',\n",
       " '0a39f1da-4931-11ec-9672-e09467e2e08c.jpg',\n",
       " '00af4bc4-4931-11ec-9672-e09467e2e08c.jpg',\n",
       " '0a85a27e-4931-11ec-9672-e09467e2e08c.jpg',\n",
       " '0a0c2ee4-4931-11ec-9672-e09467e2e08c.jpg',\n",
       " '00be9caa-4931-11ec-9672-e09467e2e08c.jpg',\n",
       " '00c3711c-4931-11ec-9672-e09467e2e08c.jpg',\n",
       " '0a900854-4931-11ec-9672-e09467e2e08c.jpg',\n",
       " '0acc74b0-4931-11ec-9672-e09467e2e08c.jpg',\n",
       " '0a25e4c4-4931-11ec-9672-e09467e2e08c.jpg',\n",
       " '00dd177a-4931-11ec-9672-e09467e2e08c.jpg',\n",
       " '0a02705c-4931-11ec-9672-e09467e2e08c.jpg',\n",
       " '0a765fb2-4931-11ec-9672-e09467e2e08c.jpg',\n",
       " '0a99c3b2-4931-11ec-9672-e09467e2e08c.jpg',\n",
       " '00aa6ed8-4931-11ec-9672-e09467e2e08c.jpg',\n",
       " '00d2fae2-4931-11ec-9672-e09467e2e08c.jpg',\n",
       " '0a6c9dec-4931-11ec-9672-e09467e2e08c.jpg',\n",
       " '0ac21218-4931-11ec-9672-e09467e2e08c.jpg',\n",
       " '0a9eb2fa-4931-11ec-9672-e09467e2e08c.jpg',\n",
       " '0aa42e2e-4931-11ec-9672-e09467e2e08c.jpg',\n",
       " '0a168de4-4931-11ec-9672-e09467e2e08c.jpg',\n",
       " '0a624004-4931-11ec-9672-e09467e2e08c.jpg',\n",
       " '0ab848c8-4931-11ec-9672-e09467e2e08c.jpg',\n",
       " '0a204cc6-4931-11ec-9672-e09467e2e08c.jpg',\n",
       " '0a4e1822-4931-11ec-9672-e09467e2e08c.jpg',\n",
       " '0a34737c-4931-11ec-9672-e09467e2e08c.jpg',\n",
       " '0a2ab364-4931-11ec-9672-e09467e2e08c.jpg',\n",
       " '00d8335e-4931-11ec-9672-e09467e2e08c.jpg',\n",
       " '0a717c4a-4931-11ec-9672-e09467e2e08c.jpg',\n",
       " '00b9b532-4931-11ec-9672-e09467e2e08c.jpg',\n",
       " '0a1b6b84-4931-11ec-9672-e09467e2e08c.jpg',\n",
       " '0a493e92-4931-11ec-9672-e09467e2e08c.jpg',\n",
       " '0abd2c4e-4931-11ec-9672-e09467e2e08c.jpg',\n",
       " '00a58a1c-4931-11ec-9672-e09467e2e08c.jpg',\n",
       " '0a8169a2-4931-11ec-9672-e09467e2e08c.jpg',\n",
       " '0a075108-4931-11ec-9672-e09467e2e08c.jpg',\n",
       " '0ab36916-4931-11ec-9672-e09467e2e08c.jpg',\n",
       " '00a01370-4931-11ec-9672-e09467e2e08c.jpg',\n",
       " '0a57da1a-4931-11ec-9672-e09467e2e08c.jpg',\n",
       " '0a6720ce-4931-11ec-9672-e09467e2e08c.jpg',\n",
       " '0a52f478-4931-11ec-9672-e09467e2e08c.jpg',\n",
       " '00b4cd4c-4931-11ec-9672-e09467e2e08c.jpg',\n",
       " '0ac794cc-4931-11ec-9672-e09467e2e08c.jpg',\n",
       " '0ad158b8-4931-11ec-9672-e09467e2e08c.jpg',\n",
       " '00c8f06a-4931-11ec-9672-e09467e2e08c.jpg',\n",
       " '0a5d6872-4931-11ec-9672-e09467e2e08c.jpg',\n",
       " '0aa907dc-4931-11ec-9672-e09467e2e08c.jpg',\n",
       " '0a8a82d0-4931-11ec-9672-e09467e2e08c.jpg',\n",
       " '0a951ed4-4931-11ec-9672-e09467e2e08c.jpg']"
      ]
     },
     "execution_count": 71,
     "metadata": {},
     "output_type": "execute_result"
    }
   ],
   "source": [
    "os.listdir(os.path.join('application_data', 'verification_images'))"
   ]
  },
  {
   "cell_type": "code",
   "execution_count": 72,
   "id": "37c7e996",
   "metadata": {},
   "outputs": [
    {
     "data": {
      "text/plain": [
       "'application_data/input_image/input_image.jpg'"
      ]
     },
     "execution_count": 72,
     "metadata": {},
     "output_type": "execute_result"
    }
   ],
   "source": [
    "os.path.join('application_data', 'input_image', 'input_image.jpg')"
   ]
  },
  {
   "cell_type": "code",
   "execution_count": 74,
   "id": "e0b3187c",
   "metadata": {},
   "outputs": [
    {
     "name": "stdout",
     "output_type": "stream",
     "text": [
      "application_data/verification_images/0a2f9082-4931-11ec-9672-e09467e2e08c.jpg\n",
      "application_data/verification_images/0ad6d0ea-4931-11ec-9672-e09467e2e08c.jpg\n",
      "application_data/verification_images/0a39f1da-4931-11ec-9672-e09467e2e08c.jpg\n",
      "application_data/verification_images/00af4bc4-4931-11ec-9672-e09467e2e08c.jpg\n",
      "application_data/verification_images/0a85a27e-4931-11ec-9672-e09467e2e08c.jpg\n",
      "application_data/verification_images/0a0c2ee4-4931-11ec-9672-e09467e2e08c.jpg\n",
      "application_data/verification_images/00be9caa-4931-11ec-9672-e09467e2e08c.jpg\n",
      "application_data/verification_images/00c3711c-4931-11ec-9672-e09467e2e08c.jpg\n",
      "application_data/verification_images/0a900854-4931-11ec-9672-e09467e2e08c.jpg\n",
      "application_data/verification_images/0acc74b0-4931-11ec-9672-e09467e2e08c.jpg\n",
      "application_data/verification_images/0a25e4c4-4931-11ec-9672-e09467e2e08c.jpg\n",
      "application_data/verification_images/00dd177a-4931-11ec-9672-e09467e2e08c.jpg\n",
      "application_data/verification_images/0a02705c-4931-11ec-9672-e09467e2e08c.jpg\n",
      "application_data/verification_images/0a765fb2-4931-11ec-9672-e09467e2e08c.jpg\n",
      "application_data/verification_images/0a99c3b2-4931-11ec-9672-e09467e2e08c.jpg\n",
      "application_data/verification_images/00aa6ed8-4931-11ec-9672-e09467e2e08c.jpg\n",
      "application_data/verification_images/00d2fae2-4931-11ec-9672-e09467e2e08c.jpg\n",
      "application_data/verification_images/0a6c9dec-4931-11ec-9672-e09467e2e08c.jpg\n",
      "application_data/verification_images/0ac21218-4931-11ec-9672-e09467e2e08c.jpg\n",
      "application_data/verification_images/0a9eb2fa-4931-11ec-9672-e09467e2e08c.jpg\n",
      "application_data/verification_images/0aa42e2e-4931-11ec-9672-e09467e2e08c.jpg\n",
      "application_data/verification_images/0a168de4-4931-11ec-9672-e09467e2e08c.jpg\n",
      "application_data/verification_images/0a624004-4931-11ec-9672-e09467e2e08c.jpg\n",
      "application_data/verification_images/0ab848c8-4931-11ec-9672-e09467e2e08c.jpg\n",
      "application_data/verification_images/0a204cc6-4931-11ec-9672-e09467e2e08c.jpg\n",
      "application_data/verification_images/0a4e1822-4931-11ec-9672-e09467e2e08c.jpg\n",
      "application_data/verification_images/0a34737c-4931-11ec-9672-e09467e2e08c.jpg\n",
      "application_data/verification_images/0a2ab364-4931-11ec-9672-e09467e2e08c.jpg\n",
      "application_data/verification_images/00d8335e-4931-11ec-9672-e09467e2e08c.jpg\n",
      "application_data/verification_images/0a717c4a-4931-11ec-9672-e09467e2e08c.jpg\n",
      "application_data/verification_images/00b9b532-4931-11ec-9672-e09467e2e08c.jpg\n",
      "application_data/verification_images/0a1b6b84-4931-11ec-9672-e09467e2e08c.jpg\n",
      "application_data/verification_images/0a493e92-4931-11ec-9672-e09467e2e08c.jpg\n",
      "application_data/verification_images/0abd2c4e-4931-11ec-9672-e09467e2e08c.jpg\n",
      "application_data/verification_images/00a58a1c-4931-11ec-9672-e09467e2e08c.jpg\n",
      "application_data/verification_images/0a8169a2-4931-11ec-9672-e09467e2e08c.jpg\n",
      "application_data/verification_images/0a075108-4931-11ec-9672-e09467e2e08c.jpg\n",
      "application_data/verification_images/0ab36916-4931-11ec-9672-e09467e2e08c.jpg\n",
      "application_data/verification_images/00a01370-4931-11ec-9672-e09467e2e08c.jpg\n",
      "application_data/verification_images/0a57da1a-4931-11ec-9672-e09467e2e08c.jpg\n",
      "application_data/verification_images/0a6720ce-4931-11ec-9672-e09467e2e08c.jpg\n",
      "application_data/verification_images/0a52f478-4931-11ec-9672-e09467e2e08c.jpg\n",
      "application_data/verification_images/00b4cd4c-4931-11ec-9672-e09467e2e08c.jpg\n",
      "application_data/verification_images/0ac794cc-4931-11ec-9672-e09467e2e08c.jpg\n",
      "application_data/verification_images/0ad158b8-4931-11ec-9672-e09467e2e08c.jpg\n",
      "application_data/verification_images/00c8f06a-4931-11ec-9672-e09467e2e08c.jpg\n",
      "application_data/verification_images/0a5d6872-4931-11ec-9672-e09467e2e08c.jpg\n",
      "application_data/verification_images/0aa907dc-4931-11ec-9672-e09467e2e08c.jpg\n",
      "application_data/verification_images/0a8a82d0-4931-11ec-9672-e09467e2e08c.jpg\n",
      "application_data/verification_images/0a951ed4-4931-11ec-9672-e09467e2e08c.jpg\n"
     ]
    }
   ],
   "source": [
    "for image in os.listdir(os.path.join('application_data', 'verification_images')):\n",
    "    validation_img = os.path.join('application_data', 'verification_images', image)\n",
    "    print(validation_img)"
   ]
  },
  {
   "cell_type": "code",
   "execution_count": 89,
   "id": "81e1896d",
   "metadata": {},
   "outputs": [],
   "source": [
    "def verify(model, detection_threshold, verification_threshold):\n",
    "    \n",
    "    # Build results array\n",
    "    results = []\n",
    "    for image in os.listdir(os.path.join('application_data', 'verification_images')):\n",
    "        input_img = preprocess(os.path.join('application_data', 'input_image', 'input_image.jpg'))\n",
    "        validation_img = preprocess(os.path.join('application_data', 'verification_images', image))\n",
    "        \n",
    "        # Make Predictions\n",
    "        result = model.predict(list(np.expand_dims([input_img, validation_img], axis=1)))\n",
    "        results.append(result)\n",
    "    \n",
    "    # Detection threshold: Metric above wich a prediction is considered positive\n",
    "    detection = np .sum(np.array(results) > detection_threshold)\n",
    "    \n",
    "    # Verification Threshold: Proportion of positive predictions / total positive samples\n",
    "    verification = detection /len(os.listdir(os.path.join('application_data', 'verification_images')))\n",
    "    verified = verification > verification_threshold\n",
    "    \n",
    "    return results, verified"
   ]
  },
  {
   "cell_type": "markdown",
   "id": "dbd39ca5",
   "metadata": {},
   "source": [
    "## 8.2 OpenCV real time verefication"
   ]
  },
  {
   "cell_type": "code",
   "execution_count": 92,
   "id": "4755b682",
   "metadata": {},
   "outputs": [
    {
     "name": "stdout",
     "output_type": "stream",
     "text": [
      "True\n",
      "True\n",
      "True\n"
     ]
    }
   ],
   "source": [
    "cap = cv2.VideoCapture(0)\n",
    "while cap.isOpened():\n",
    "    ret, frame = cap.read()\n",
    "    frame = frame[120:120+250, 200:200+250, :]\n",
    "    \n",
    "    cv2.imshow('Verification', frame)\n",
    "    \n",
    "    # Verification trigger\n",
    "    if cv2.waitKey(10) & 0xFF == ord('v'):\n",
    "        \n",
    "        # save input image to application_data/input_image folder\n",
    "        cv2.imwrite(os.path.join('application_data', 'input_image', 'input_image.jpg'), frame)\n",
    "        \n",
    "        # Run verification\n",
    "        results, verified = verify(model, 0.9, 0.7)\n",
    "        print(verified)\n",
    "        \n",
    "    if cv2.waitKey(10) & 0xFF == ord('q'):\n",
    "        break\n",
    "\n",
    "cap.release()\n",
    "cv2.destroyAllWindows()"
   ]
  },
  {
   "cell_type": "code",
   "execution_count": 91,
   "id": "bb7be68e",
   "metadata": {},
   "outputs": [],
   "source": [
    "cap.release()\n",
    "cv2.destroyAllWindows()"
   ]
  },
  {
   "cell_type": "code",
   "execution_count": null,
   "id": "1c49f46a",
   "metadata": {},
   "outputs": [],
   "source": []
  }
 ],
 "metadata": {
  "kernelspec": {
   "display_name": "Env_faceRecognition",
   "language": "python",
   "name": "env_facerecognition"
  },
  "language_info": {
   "codemirror_mode": {
    "name": "ipython",
    "version": 3
   },
   "file_extension": ".py",
   "mimetype": "text/x-python",
   "name": "python",
   "nbconvert_exporter": "python",
   "pygments_lexer": "ipython3",
   "version": "3.8.12"
  }
 },
 "nbformat": 4,
 "nbformat_minor": 5
}
